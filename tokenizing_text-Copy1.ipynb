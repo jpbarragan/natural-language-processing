{
 "cells": [
  {
   "cell_type": "code",
   "execution_count": 1,
   "id": "c56d1097-0bc6-46ea-a62d-ab7d8b26cc2e",
   "metadata": {},
   "outputs": [],
   "source": [
    "import nltk"
   ]
  },
  {
   "cell_type": "code",
   "execution_count": 6,
   "id": "fbb5a9ec-2528-4279-8cad-6af99ba0f2f7",
   "metadata": {},
   "outputs": [
    {
     "name": "stdout",
     "output_type": "stream",
     "text": [
      "['Mary had a little lamb.', 'Her fleece was white as snow']\n"
     ]
    }
   ],
   "source": [
    "text=\"Mary had a little lamb. Her fleece was white as snow\"\n",
    "from nltk.tokenize import word_tokenize, sent_tokenize\n",
    "sentences=sent_tokenize(text)\n",
    "print(sentences)"
   ]
  },
  {
   "cell_type": "code",
   "execution_count": 8,
   "id": "a1dff266-6b26-4978-9e49-d6b5cea3e27f",
   "metadata": {},
   "outputs": [
    {
     "name": "stdout",
     "output_type": "stream",
     "text": [
      "['Mary', 'had', 'a', 'little', 'lamb', '.', 'Her', 'fleece', 'was', 'white', 'as', 'snow']\n"
     ]
    }
   ],
   "source": [
    "words=word_tokenize(text)\n",
    "print(words)"
   ]
  },
  {
   "cell_type": "code",
   "execution_count": 10,
   "id": "cea564a9-0759-47ed-982a-6a1fbccbd11b",
   "metadata": {},
   "outputs": [
    {
     "name": "stdout",
     "output_type": "stream",
     "text": [
      "En\n",
      "un\n",
      "lugar\n",
      "de\n",
      "la\n",
      "Mancha\n",
      ",\n",
      "de\n",
      "cuyo\n",
      "nombre\n",
      "no\n",
      "quiero\n",
      "acordarme\n"
     ]
    }
   ],
   "source": [
    "output=\"En un lugar de la Mancha, de cuyo nombre no quiero acordarme\"\n",
    "palabras=word_tokenize(output)\n",
    "for palabra in palabras:\n",
    "    print(palabra)"
   ]
  },
  {
   "cell_type": "code",
   "execution_count": 2,
   "id": "fcbbdbe8-3443-4d2d-9e5f-f1e0237685c2",
   "metadata": {},
   "outputs": [],
   "source": [
    "from nltk.collocations import *"
   ]
  },
  {
   "cell_type": "code",
   "execution_count": null,
   "id": "a1c14d03-914a-4f53-9fdc-07661c9c5d1f",
   "metadata": {},
   "outputs": [],
   "source": []
  }
 ],
 "metadata": {
  "kernelspec": {
   "display_name": "Python 3 (ipykernel)",
   "language": "python",
   "name": "python3"
  },
  "language_info": {
   "codemirror_mode": {
    "name": "ipython",
    "version": 3
   },
   "file_extension": ".py",
   "mimetype": "text/x-python",
   "name": "python",
   "nbconvert_exporter": "python",
   "pygments_lexer": "ipython3",
   "version": "3.11.7"
  }
 },
 "nbformat": 4,
 "nbformat_minor": 5
}
