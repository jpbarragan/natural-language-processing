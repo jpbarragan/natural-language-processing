{
 "cells": [
  {
   "cell_type": "code",
   "execution_count": 1,
   "id": "10ce5d31-1cc9-4ccc-8fc6-482aa2506d40",
   "metadata": {},
   "outputs": [],
   "source": [
    "import nltk"
   ]
  },
  {
   "cell_type": "code",
   "execution_count": 9,
   "id": "d7678096-d522-4c8a-b94f-552458e91834",
   "metadata": {},
   "outputs": [],
   "source": [
    "from nltk.corpus import stopwords\n",
    "from string import punctuation\n",
    "customStopWords=set(stopwords.words('english')+list(punctuation))\n",
    "customSpanishStopwords = set(stopwords.words('spanish')+list(punctuation))"
   ]
  },
  {
   "cell_type": "code",
   "execution_count": 5,
   "id": "e3463ea0-b0d9-4374-a6b3-dccf1a0ee461",
   "metadata": {},
   "outputs": [
    {
     "name": "stdout",
     "output_type": "stream",
     "text": [
      "['Mary', 'had', 'a', 'little', 'lamb', '.', 'Her', 'fleece', 'was', 'white', 'as', 'snow']\n"
     ]
    }
   ],
   "source": [
    "text=\"Mary had a little lamb. Her fleece was white as snow\"\n",
    "from nltk.tokenize import word_tokenize\n",
    "words = word_tokenize(text)\n",
    "print(words)"
   ]
  },
  {
   "cell_type": "code",
   "execution_count": 8,
   "id": "db22ed4d-cdb0-4033-ba1e-0d49089aad9d",
   "metadata": {},
   "outputs": [
    {
     "name": "stdout",
     "output_type": "stream",
     "text": [
      "['Mary', 'little', 'lamb', 'Her', 'fleece', 'white', 'snow']\n"
     ]
    }
   ],
   "source": [
    "wordsNoStopwords = [word for word in words if word not in customStopWords]\n",
    "print(wordsNoStopwords)"
   ]
  },
  {
   "cell_type": "code",
   "execution_count": 10,
   "id": "0e4028b3-a633-4a41-a1f1-10910302a2dd",
   "metadata": {},
   "outputs": [
    {
     "name": "stdout",
     "output_type": "stream",
     "text": [
      "['En', 'un', 'lugar', 'de', 'la', 'Mancha', ',', 'de', 'cuyo', 'nombre', 'no', 'quiero', 'acordarme', ',', 'no', 'ha', 'mucho', 'tiempo', 'que', 'vivía', 'un', 'hidalgo', 'de', 'los', 'de', 'lanza', 'en', 'astillero', ',', 'adarga', 'antigua', ',', 'rocín', 'flaco']\n"
     ]
    }
   ],
   "source": [
    "spanishText = \"En un lugar de la Mancha, de cuyo nombre no quiero acordarme, no ha mucho tiempo que vivía un hidalgo de los de lanza en astillero, adarga antigua, rocín flaco \"\n",
    "spanishWords = word_tokenize(spanishText)\n",
    "print(spanishWords)"
   ]
  },
  {
   "cell_type": "code",
   "execution_count": 11,
   "id": "25ae7beb-10ac-4d18-af2b-613d7a1492d3",
   "metadata": {},
   "outputs": [
    {
     "name": "stdout",
     "output_type": "stream",
     "text": [
      "['En', 'lugar', 'Mancha', 'cuyo', 'nombre', 'quiero', 'acordarme', 'tiempo', 'vivía', 'hidalgo', 'lanza', 'astillero', 'adarga', 'antigua', 'rocín', 'flaco']\n"
     ]
    }
   ],
   "source": [
    "spanishWordsNoStopwords = [word for word in spanishWords if word not in customSpanishStopwords]\n",
    "print(spanishWordsNoStopwords)"
   ]
  },
  {
   "cell_type": "code",
   "execution_count": null,
   "id": "cc2742f3-7b88-4ad2-babb-530b0b96f151",
   "metadata": {},
   "outputs": [],
   "source": []
  }
 ],
 "metadata": {
  "kernelspec": {
   "display_name": "Python 3 (ipykernel)",
   "language": "python",
   "name": "python3"
  },
  "language_info": {
   "codemirror_mode": {
    "name": "ipython",
    "version": 3
   },
   "file_extension": ".py",
   "mimetype": "text/x-python",
   "name": "python",
   "nbconvert_exporter": "python",
   "pygments_lexer": "ipython3",
   "version": "3.11.7"
  }
 },
 "nbformat": 4,
 "nbformat_minor": 5
}
